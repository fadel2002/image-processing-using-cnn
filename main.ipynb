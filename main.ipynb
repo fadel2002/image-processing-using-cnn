{
 "cells": [
  {
   "cell_type": "code",
   "execution_count": 27,
   "metadata": {},
   "outputs": [],
   "source": [
    "import pandas as pd\n",
    "from PIL import Image\n",
    "from skimage.transform import resize\n",
    "import os\n",
    "import pandas as pd\n",
    "import matplotlib.pyplot as plt\n",
    "import numpy as np\n",
    "import time\n",
    "from tensorflow.keras import layers, models\n",
    "from keras.models import Sequential\n",
    "from keras.layers import Dense, Dropout, Activation, Flatten\n",
    "from keras.layers import Conv2D, MaxPooling2D\n",
    "from keras.layers import LeakyReLU\n",
    "import seaborn as sns\n",
    "import keras"
   ]
  },
  {
   "cell_type": "code",
   "execution_count": 30,
   "metadata": {},
   "outputs": [
    {
     "name": "stdout",
     "output_type": "stream",
     "text": [
      "(1600,) [1 1 1 ... 8 8 8]\n"
     ]
    }
   ],
   "source": [
    "# weather mapping function\n",
    "def weatherName(i):\n",
    "    if (i == 1):\n",
    "        return \"berembun\"\n",
    "    elif (i == 2):\n",
    "        return \"berkabut\"\n",
    "    elif (i == 3):\n",
    "        return \"hujan es\"\n",
    "    elif (i == 4):\n",
    "        return \"petir\"\n",
    "    elif (i == 5):\n",
    "        return \"hujan\"\n",
    "    elif (i == 6):\n",
    "        return \"pelangi\"\n",
    "    elif (i == 7):\n",
    "        return \"badai pasir\"\n",
    "    else:\n",
    "        return \"salju\"\n",
    "\n",
    "# weather code mapping function for training data\n",
    "def weatherTrain(i):\n",
    "    if (i < 200):\n",
    "        return 1\n",
    "    elif (i < 400):\n",
    "        return 2\n",
    "    elif (i < 600):\n",
    "        return 3\n",
    "    elif (i < 800):\n",
    "        return 4\n",
    "    elif (i < 1000):\n",
    "        return 5\n",
    "    elif (i < 1200):\n",
    "        return 6\n",
    "    elif (i < 1400):\n",
    "        return 7\n",
    "    else:\n",
    "        return 8\n",
    "\n",
    "# mapping results for training data (y_train)\n",
    "y_train = np.array([weatherTrain(index) for index in range(0, 1600)], dtype=int)\n",
    "y_train.reshape(-1,)\n",
    "print(y_train.shape, y_train)\n"
   ]
  }
 ],
 "metadata": {
  "kernelspec": {
   "display_name": "Python 3",
   "language": "python",
   "name": "python3"
  },
  "language_info": {
   "codemirror_mode": {
    "name": "ipython",
    "version": 3
   },
   "file_extension": ".py",
   "mimetype": "text/x-python",
   "name": "python",
   "nbconvert_exporter": "python",
   "pygments_lexer": "ipython3",
   "version": "3.10.6"
  },
  "orig_nbformat": 4,
  "vscode": {
   "interpreter": {
    "hash": "d99a3f7b344b3c3107482760db15f42178bfad658d282ab0a919b76809e13cb5"
   }
  }
 },
 "nbformat": 4,
 "nbformat_minor": 2
}
