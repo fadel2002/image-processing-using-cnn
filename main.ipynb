{
 "cells": [
  {
   "cell_type": "code",
   "execution_count": 5,
   "metadata": {},
   "outputs": [],
   "source": [
    "import pandas as pd\n",
    "from PIL import Image\n",
    "from skimage.transform import resize\n",
    "import os\n",
    "import pandas as pd\n",
    "import matplotlib.pyplot as plt\n",
    "import numpy as np\n",
    "import time\n",
    "from tensorflow.keras import layers, models\n",
    "from keras.models import Sequential\n",
    "from keras.layers import Dense, Dropout, Activation, Flatten\n",
    "from keras.layers import Conv2D, MaxPooling2D\n",
    "from keras.layers import LeakyReLU\n",
    "import seaborn as sns\n",
    "import keras"
   ]
  },
  {
   "cell_type": "code",
   "execution_count": 15,
   "metadata": {},
   "outputs": [
    {
     "name": "stdout",
     "output_type": "stream",
     "text": [
      "(1600,) [0 0 0 ... 7 7 7]\n"
     ]
    }
   ],
   "source": [
    "# weather mapping function\n",
    "def weatherName(i):\n",
    "    if (i == 0):\n",
    "        return \"berembun\"\n",
    "    elif (i == 1):\n",
    "        return \"berkabut\"\n",
    "    elif (i == 2):\n",
    "        return \"hujan es\"\n",
    "    elif (i == 3):\n",
    "        return \"petir\"\n",
    "    elif (i == 4):\n",
    "        return \"hujan\"\n",
    "    elif (i == 5):\n",
    "        return \"pelangi\"\n",
    "    elif (i == 6):\n",
    "        return \"badai pasir\"\n",
    "    else:\n",
    "        return \"salju\"\n",
    "\n",
    "# weather code mapping function for data training\n",
    "def weatherTrain(i):\n",
    "    if (i < 200):\n",
    "        return 0\n",
    "    elif (i < 400):\n",
    "        return 1\n",
    "    elif (i < 600):\n",
    "        return 2\n",
    "    elif (i < 800):\n",
    "        return 3\n",
    "    elif (i < 1000):\n",
    "        return 4\n",
    "    elif (i < 1200):\n",
    "        return 5\n",
    "    elif (i < 1400):\n",
    "        return 6\n",
    "    else:\n",
    "        return 7\n",
    "\n",
    "# mapping for data training results (y_train)\n",
    "y_train = np.array([weatherTrain(index) for index in range(0, 1600)], dtype=int)\n",
    "y_train.reshape(-1,)\n",
    "print(y_train.shape, y_train)\n"
   ]
  },
  {
   "cell_type": "code",
   "execution_count": 16,
   "metadata": {},
   "outputs": [
    {
     "name": "stdout",
     "output_type": "stream",
     "text": [
      "(1600, 150, 200, 3) (1600,)\n"
     ]
    }
   ],
   "source": [
    "# data image preprocessing\n",
    "# input training dataset to numpy array\n",
    "dew = np.array([resize(np.array(Image.open('./Train/dew/' + filename)) ,(150,200,3)) for filename in os.listdir('./Train/dew')], dtype=float)\n",
    "\n",
    "fogsmog = np.array([resize(np.array(Image.open('./Train/fogsmog/' + filename)) ,(150,200,3)) for filename in os.listdir('./Train/fogsmog')], dtype=float)\n",
    "\n",
    "join = np.append(dew, fogsmog,  0)\n",
    "\n",
    "hail = np.array([resize(np.array(Image.open('./Train/hail/' + filename)) ,(150,200,3)) for filename in os.listdir('./Train/hail')], dtype=float)\n",
    "\n",
    "join = np.append(join, hail,  0)\n",
    "\n",
    "lightning = np.array([resize(np.array(Image.open('./Train/lightning/' + filename)) ,(150,200,3)) for filename in os.listdir('./Train/lightning')], dtype=float)\n",
    "\n",
    "join = np.append(join, lightning,  0)\n",
    "\n",
    "rain = np.array([resize(np.array(Image.open('./Train/rain/' + filename)) ,(150,200,3)) for filename in os.listdir('./Train/rain')], dtype=float)\n",
    "\n",
    "join = np.append(join, rain,  0)\n",
    "\n",
    "rainbow = np.array([resize(np.array(Image.open('./Train/rainbow/' + filename)) ,(150,200,3)) for filename in os.listdir('./Train/rainbow')], dtype=float)\n",
    "\n",
    "join = np.append(join, rainbow,  0)\n",
    "\n",
    "sandstorm = np.array([resize(np.array(Image.open('./Train/sandstorm/' + filename)) ,(150,200,3)) for filename in os.listdir('./Train/sandstorm')], dtype=float)\n",
    "\n",
    "join = np.append(join, sandstorm,  0)\n",
    "\n",
    "snow = np.array([resize(np.array(Image.open('./Train/snow/' + filename)) ,(150,200,3)) for filename in os.listdir('./Train/snow')], dtype=float)\n",
    "\n",
    "# X_train result\n",
    "X_train = np.append(join, snow,  0)\n",
    "\n",
    "# check data training shape\n",
    "print(X_train.shape, y_train.shape)"
   ]
  },
  {
   "cell_type": "code",
   "execution_count": 27,
   "metadata": {},
   "outputs": [
    {
     "name": "stdout",
     "output_type": "stream",
     "text": [
      "Epoch 1/20\n",
      "50/50 [==============================] - 24s 470ms/step - loss: 1.6887 - accuracy: 0.3419\n",
      "Epoch 2/20\n",
      "50/50 [==============================] - 23s 453ms/step - loss: 1.3075 - accuracy: 0.5412\n",
      "Epoch 3/20\n",
      "50/50 [==============================] - 23s 455ms/step - loss: 1.1594 - accuracy: 0.5913\n",
      "Epoch 4/20\n",
      "50/50 [==============================] - 23s 455ms/step - loss: 1.0341 - accuracy: 0.6456\n",
      "Epoch 5/20\n",
      "50/50 [==============================] - 23s 457ms/step - loss: 0.8964 - accuracy: 0.6900\n",
      "Epoch 6/20\n",
      "50/50 [==============================] - 23s 456ms/step - loss: 0.8829 - accuracy: 0.6988\n",
      "Epoch 7/20\n",
      "50/50 [==============================] - 23s 468ms/step - loss: 0.8446 - accuracy: 0.7144\n",
      "Epoch 8/20\n",
      "50/50 [==============================] - 24s 473ms/step - loss: 0.7207 - accuracy: 0.7613\n",
      "Epoch 9/20\n",
      "50/50 [==============================] - 23s 466ms/step - loss: 0.6410 - accuracy: 0.7831\n",
      "Epoch 10/20\n",
      "50/50 [==============================] - 23s 469ms/step - loss: 0.6061 - accuracy: 0.7912\n",
      "Epoch 11/20\n",
      "50/50 [==============================] - 23s 465ms/step - loss: 0.5622 - accuracy: 0.8031\n",
      "Epoch 12/20\n",
      "50/50 [==============================] - 23s 468ms/step - loss: 0.5169 - accuracy: 0.8175\n",
      "Epoch 13/20\n",
      "50/50 [==============================] - 23s 466ms/step - loss: 0.4626 - accuracy: 0.8456\n",
      "Epoch 14/20\n",
      "50/50 [==============================] - 23s 465ms/step - loss: 0.4489 - accuracy: 0.8438\n",
      "Epoch 15/20\n",
      "50/50 [==============================] - 23s 466ms/step - loss: 0.3380 - accuracy: 0.8844\n",
      "Epoch 16/20\n",
      "50/50 [==============================] - 24s 471ms/step - loss: 0.3274 - accuracy: 0.8950\n",
      "Epoch 17/20\n",
      "50/50 [==============================] - 24s 476ms/step - loss: 0.3307 - accuracy: 0.8919\n",
      "Epoch 18/20\n",
      "50/50 [==============================] - 24s 476ms/step - loss: 0.3385 - accuracy: 0.8737\n",
      "Epoch 19/20\n",
      "50/50 [==============================] - 23s 469ms/step - loss: 0.2371 - accuracy: 0.9206\n",
      "Epoch 20/20\n",
      "50/50 [==============================] - 23s 469ms/step - loss: 0.2254 - accuracy: 0.9256\n"
     ]
    }
   ],
   "source": [
    "# cnn model\n",
    "cnn = models.Sequential([\n",
    "    layers.Conv2D(filters=32, kernel_size=(3, 3), activation='relu', input_shape=(150, 200, 3)),\n",
    "    layers.MaxPooling2D((2, 2)),\n",
    "    \n",
    "    layers.Conv2D(filters=64, kernel_size=(3, 3), activation='relu'),\n",
    "    layers.MaxPooling2D((2, 2)),\n",
    "\n",
    "    layers.Conv2D(filters=128, kernel_size=(3, 3), activation='relu'),\n",
    "    layers.MaxPooling2D((2, 2)),\n",
    "\n",
    "    layers.Conv2D(filters=256, kernel_size=(3, 3), activation='relu'),\n",
    "    layers.MaxPooling2D((2, 2)),\n",
    "\n",
    "    layers.Conv2D(filters=512, kernel_size=(3, 3), activation='relu'),\n",
    "    layers.MaxPooling2D((2, 2)),\n",
    "    \n",
    "    layers.Flatten(),  \n",
    "    layers.Dense(512, activation='relu'),\n",
    "    layers.Dense(8, activation='softmax')\n",
    "])\n",
    "\n",
    "\n",
    "# using adam for optimizer function and sparse categorical crossentropy for loss function \n",
    "cnn.compile(optimizer='adam',\n",
    "              loss='sparse_categorical_crossentropy', \n",
    "              metrics=['accuracy'])\n",
    "              \n",
    "# using 20 epochs\n",
    "history = cnn.fit(X_train, y_train, epochs=20)"
   ]
  },
  {
   "cell_type": "code",
   "execution_count": 28,
   "metadata": {},
   "outputs": [
    {
     "data": {
      "image/png": "[encoded data removed]",
      "text/plain": [
       "<Figure size 640x480 with 1 Axes>"
      ]
     },
     "metadata": {},
     "output_type": "display_data"
    }
   ],
   "source": [
    "# evaluate loss\n",
    "plt.plot(history.history['loss'], color='b', label=\"validation loss\")\n",
    "plt.title(\"Test Loss\")\n",
    "plt.xlabel(\"Number of Epochs\")\n",
    "plt.ylabel(\"Loss\")\n",
    "plt.legend()\n",
    "plt.show()"
   ]
  },
  {
   "cell_type": "code",
   "execution_count": 29,
   "metadata": {},
   "outputs": [
    {
     "name": "stdout",
     "output_type": "stream",
     "text": [
      "(160,)\n"
     ]
    },
    {
     "data": {
      "text/plain": [
       "array([0, 0, 0, 0, 0, 0, 0, 0, 0, 0, 0, 0, 0, 0, 0, 0, 0, 0, 0, 0, 1, 1,\n",
       "       1, 1, 1, 1, 1, 1, 1, 1, 1, 1, 1, 1, 1, 1, 1, 1, 1, 1, 2, 2, 2, 2,\n",
       "       2, 2, 2, 2, 2, 2, 2, 2, 2, 2, 2, 2, 2, 2, 2, 2, 3, 3, 3, 3, 3, 3,\n",
       "       3, 3, 3, 3, 3, 3, 3, 3, 3, 3, 3, 3, 3, 3, 4, 4, 4, 4, 4, 4, 4, 4,\n",
       "       4, 4, 4, 4, 4, 4, 4, 4, 4, 4, 4, 4, 5, 5, 5, 5, 5, 5, 5, 5, 5, 5,\n",
       "       5, 5, 5, 5, 5, 5, 5, 5, 5, 5, 6, 6, 6, 6, 6, 6, 6, 6, 6, 6, 6, 6,\n",
       "       6, 6, 6, 6, 6, 6, 6, 6, 7, 7, 7, 7, 7, 7, 7, 7, 7, 7, 7, 7, 7, 7,\n",
       "       7, 7, 7, 7, 7, 7])"
      ]
     },
     "execution_count": 29,
     "metadata": {},
     "output_type": "execute_result"
    }
   ],
   "source": [
    "# weather code mapping function for data testing\n",
    "def weatherTest(i):\n",
    "    if (i < 20):\n",
    "        return 0\n",
    "    elif (i < 40):\n",
    "        return 1\n",
    "    elif (i < 60):\n",
    "        return 2\n",
    "    elif (i < 80):\n",
    "        return 3\n",
    "    elif (i < 100):\n",
    "        return 4\n",
    "    elif (i < 120):\n",
    "        return 5\n",
    "    elif (i < 140):\n",
    "        return 6\n",
    "    else:\n",
    "        return 7\n",
    "\n",
    "# mapping for data testing results (y_test)\n",
    "y_test = np.array([weatherTest(index) for index in range(0, 160)], dtype=int)\n",
    "y_test.reshape(-1,)\n",
    "print(y_test.shape)\n",
    "y_test"
   ]
  },
  {
   "cell_type": "code",
   "execution_count": 31,
   "metadata": {},
   "outputs": [
    {
     "name": "stdout",
     "output_type": "stream",
     "text": [
      "(160, 150, 200, 3) (160,)\n"
     ]
    }
   ],
   "source": [
    "# data image preprocessing\n",
    "# input testing dataset to numpy array\n",
    "dew = np.array([resize(np.array(Image.open('./Test/dew/' + filename)) ,(150,200,3)) for filename in os.listdir('./Test/dew')], dtype=float)\n",
    "\n",
    "fogsmog = np.array([resize(np.array(Image.open('./Test/fogsmog/' + filename)) ,(150,200,3)) for filename in os.listdir('./Test/fogsmog')], dtype=float)\n",
    "\n",
    "gabung = np.append(dew, fogsmog,  0)\n",
    "\n",
    "hail = np.array([resize(np.array(Image.open('./Test/hail/' + filename)) ,(150,200,3)) for filename in os.listdir('./Test/hail')], dtype=float)\n",
    "\n",
    "gabung = np.append(gabung, hail,  0)\n",
    "\n",
    "lightning = np.array([resize(np.array(Image.open('./Test/lightning/' + filename)) ,(150,200,3)) for filename in os.listdir('./Test/lightning')], dtype=float)\n",
    "\n",
    "gabung = np.append(gabung, lightning,  0)\n",
    "\n",
    "rain = np.array([resize(np.array(Image.open('./Test/rain/' + filename)) ,(150,200,3)) for filename in os.listdir('./Test/rain')], dtype=float)\n",
    "\n",
    "gabung = np.append(gabung, rain,  0)\n",
    "\n",
    "rainbow = np.array([resize(np.array(Image.open('./Test/rainbow/' + filename)) ,(150,200,3)) for filename in os.listdir('./Test/rainbow')], dtype=float)\n",
    "\n",
    "gabung = np.append(gabung, rainbow,  0)\n",
    "\n",
    "sandstorm = np.array([resize(np.array(Image.open('./Test/sandstorm/' + filename)) ,(150,200,3)) for filename in os.listdir('./Test/sandstorm')], dtype=float)\n",
    "\n",
    "gabung = np.append(gabung, sandstorm,  0)\n",
    "\n",
    "snow = np.array([resize(np.array(Image.open('./Test/snow/' + filename)) ,(150,200,3)) for filename in os.listdir('./Test/snow')], dtype=float)\n",
    "\n",
    "# X_test result\n",
    "X_test = np.append(gabung, snow,  0)\n",
    "\n",
    "# check data testing shape\n",
    "print(X_test.shape, y_test.shape)"
   ]
  },
  {
   "cell_type": "code",
   "execution_count": 33,
   "metadata": {},
   "outputs": [
    {
     "name": "stdout",
     "output_type": "stream",
     "text": [
      "5/5 [==============================] - 0s 92ms/step - loss: 0.8782 - accuracy: 0.7875\n"
     ]
    },
    {
     "data": {
      "text/plain": [
       "[0.8782414197921753, 0.7875000238418579]"
      ]
     },
     "execution_count": 33,
     "metadata": {},
     "output_type": "execute_result"
    }
   ],
   "source": [
    "# evaluation of accuracy and loss using data test\n",
    "cnn.evaluate(X_test,y_test)"
   ]
  },
  {
   "cell_type": "code",
   "execution_count": 34,
   "metadata": {},
   "outputs": [
    {
     "name": "stdout",
     "output_type": "stream",
     "text": [
      "5/5 [==============================] - 1s 97ms/step\n",
      "              precision    recall  f1-score   support\n",
      "\n",
      "           0       0.89      0.85      0.87        20\n",
      "           1       1.00      0.90      0.95        20\n",
      "           2       0.58      0.75      0.65        20\n",
      "           3       0.90      0.90      0.90        20\n",
      "           4       0.58      0.55      0.56        20\n",
      "           5       0.95      0.95      0.95        20\n",
      "           6       0.79      0.95      0.86        20\n",
      "           7       0.64      0.45      0.53        20\n",
      "\n",
      "    accuracy                           0.79       160\n",
      "   macro avg       0.79      0.79      0.78       160\n",
      "weighted avg       0.79      0.79      0.78       160\n",
      "\n"
     ]
    }
   ],
   "source": [
    "# data accuracy per type of weather\n",
    "from sklearn.metrics import classification_report\n",
    "y_pred = cnn.predict(X_test)\n",
    "y_pred_classes = [np.argmax(element) for element in y_pred]\n",
    "\n",
    "# data report precision, recall, and f1-score values\n",
    "print(classification_report(y_test, y_pred_classes))"
   ]
  },
  {
   "cell_type": "code",
   "execution_count": 44,
   "metadata": {},
   "outputs": [
    {
     "name": "stdout",
     "output_type": "stream",
     "text": [
      "5/5 [==============================] - 1s 105ms/step\n",
      "n data X_test menghasilkan y_pred berikut\n",
      "\n",
      "0 0 0 0 0 0 0 1 1 1 1 1 1 1 7 2 2 2 2 0 3 3 3 4 3 3 3 2 2 4 4 4 4 4 5 5 5 5 5 5 6 6 6 6 6 3 6 7 4 7 7 4 2 6 "
     ]
    }
   ],
   "source": [
    "# hasil testing, menggunakan 60 data pertama\n",
    "n_test = 160\n",
    "y_pred = cnn.predict(X_test)\n",
    "y_pred = [np.argmax(val) for val in y_pred]\n",
    "print(\"n data X_test menghasilkan y_pred berikut\\n\")\n",
    "\n",
    "for x in range(0, n_test, 3):\n",
    "  print(y_pred[x], end=\" \")"
   ]
  },
  {
   "cell_type": "code",
   "execution_count": null,
   "metadata": {},
   "outputs": [],
   "source": [
    "# hasil actual, menggunakan 60 data pertama\n",
    "print(\"n data y_test sesungguhnya\\n\")\n",
    "for x in range(0, 160, 3):\n",
    "  print(y_pred[x], end=\" \")"
   ]
  }
 ],
 "metadata": {
  "kernelspec": {
   "display_name": "Python 3",
   "language": "python",
   "name": "python3"
  },
  "language_info": {
   "codemirror_mode": {
    "name": "ipython",
    "version": 3
   },
   "file_extension": ".py",
   "mimetype": "text/x-python",
   "name": "python",
   "nbconvert_exporter": "python",
   "pygments_lexer": "ipython3",
   "version": "3.10.6"
  },
  "orig_nbformat": 4,
  "vscode": {
   "interpreter": {
    "hash": "d99a3f7b344b3c3107482760db15f42178bfad658d282ab0a919b76809e13cb5"
   }
  }
 },
 "nbformat": 4,
 "nbformat_minor": 2
}
